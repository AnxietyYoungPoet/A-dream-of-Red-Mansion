{
 "cells": [
  {
   "cell_type": "markdown",
   "metadata": {},
   "source": [
    "# Image Captioning with LSTMs\n",
    "In the previous exercise you implemented a vanilla RNN and applied it to image captioning. In this notebook you will implement the LSTM update rule and use it for image captioning."
   ]
  },
  {
   "cell_type": "code",
   "execution_count": 1,
   "metadata": {},
   "outputs": [],
   "source": [
    "# As usual, a bit of setup\n",
    "import time, os, json\n",
    "import numpy as np\n",
    "import matplotlib.pyplot as plt\n",
    "\n",
    "from gradient_check import eval_numerical_gradient, eval_numerical_gradient_array\n",
    "from rnn_layers import *\n",
    "from solver import CharSolver\n",
    "from rnn import CharRNN\n",
    "\n",
    "%matplotlib inline\n",
    "plt.rcParams['figure.figsize'] = (10.0, 8.0) # set default size of plots\n",
    "plt.rcParams['image.interpolation'] = 'nearest'\n",
    "plt.rcParams['image.cmap'] = 'gray'\n",
    "\n",
    "# for auto-reloading external modules\n",
    "# see http://stackoverflow.com/questions/1907993/autoreload-of-modules-in-ipython\n",
    "%load_ext autoreload\n",
    "%autoreload 2\n",
    "\n",
    "def rel_error(x, y):\n",
    "    \"\"\" returns relative error \"\"\"\n",
    "    return np.max(np.abs(x - y) / (np.maximum(1e-8, np.abs(x) + np.abs(y))))"
   ]
  },
  {
   "cell_type": "markdown",
   "metadata": {},
   "source": [
    "# Load MS-COCO data\n",
    "As in the previous notebook, we will use the Microsoft COCO dataset for captioning."
   ]
  },
  {
   "cell_type": "code",
   "execution_count": 2,
   "metadata": {},
   "outputs": [
    {
     "name": "stdout",
     "output_type": "stream",
     "text": [
      "[[0.         0.07142857 0.14285714]\n",
      " [0.64285714 0.71428571 0.78571429]\n",
      " [0.21428571 0.28571429 0.35714286]\n",
      " [0.42857143 0.5        0.57142857]]\n"
     ]
    }
   ],
   "source": [
    "N, T, V, D = 2, 4, 5, 3\n",
    "\n",
    "x = np.asarray([[0, 3, 1, 2], [2, 1, 0, 3]])[0]\n",
    "W = np.linspace(0, 1, num=V*D).reshape(V, D)\n",
    "\n",
    "out, _ = word_embedding_forward(x, W)\n",
    "expected_out = np.asarray([\n",
    " [[ 0.,          0.07142857,  0.14285714],\n",
    "  [ 0.64285714,  0.71428571,  0.78571429],\n",
    "  [ 0.21428571,  0.28571429,  0.35714286],\n",
    "  [ 0.42857143,  0.5,         0.57142857]],\n",
    " [[ 0.42857143,  0.5,         0.57142857],\n",
    "  [ 0.21428571,  0.28571429,  0.35714286],\n",
    "  [ 0.,          0.07142857,  0.14285714],\n",
    "  [ 0.64285714,  0.71428571,  0.78571429]]])\n",
    "print(out)\n",
    "# print('out error: ', rel_error(expected_out, out))"
   ]
  },
  {
   "cell_type": "markdown",
   "metadata": {},
   "source": [
    "# LSTM\n",
    "If you read recent papers, you'll see that many people use a variant on the vanilla RNN called Long-Short Term Memory (LSTM) RNNs. Vanilla RNNs can be tough to train on long sequences due to vanishing and exploding gradients caused by repeated matrix multiplication. LSTMs solve this problem by replacing the simple update rule of the vanilla RNN with a gating mechanism as follows.\n",
    "\n",
    "Similar to the vanilla RNN, at each timestep we receive an input $x_t\\in\\mathbb{R}^D$ and the previous hidden state $h_{t-1}\\in\\mathbb{R}^H$; the LSTM also maintains an $H$-dimensional *cell state*, so we also receive the previous cell state $c_{t-1}\\in\\mathbb{R}^H$. The learnable parameters of the LSTM are an *input-to-hidden* matrix $W_x\\in\\mathbb{R}^{4H\\times D}$, a *hidden-to-hidden* matrix $W_h\\in\\mathbb{R}^{4H\\times H}$ and a *bias vector* $b\\in\\mathbb{R}^{4H}$.\n",
    "\n",
    "At each timestep we first compute an *activation vector* $a\\in\\mathbb{R}^{4H}$ as $a=W_xx_t + W_hh_{t-1}+b$. We then divide this into four vectors $a_i,a_f,a_o,a_g\\in\\mathbb{R}^H$ where $a_i$ consists of the first $H$ elements of $a$, $a_f$ is the next $H$ elements of $a$, etc. We then compute the *input gate* $g\\in\\mathbb{R}^H$, *forget gate* $f\\in\\mathbb{R}^H$, *output gate* $o\\in\\mathbb{R}^H$ and *block input* $g\\in\\mathbb{R}^H$ as\n",
    "\n",
    "$$\n",
    "\\begin{align*}\n",
    "i = \\sigma(a_i) \\hspace{2pc}\n",
    "f = \\sigma(a_f) \\hspace{2pc}\n",
    "o = \\sigma(a_o) \\hspace{2pc}\n",
    "g = \\tanh(a_g)\n",
    "\\end{align*}\n",
    "$$\n",
    "\n",
    "where $\\sigma$ is the sigmoid function and $\\tanh$ is the hyperbolic tangent, both applied elementwise.\n",
    "\n",
    "Finally we compute the next cell state $c_t$ and next hidden state $h_t$ as\n",
    "\n",
    "$$\n",
    "c_{t} = f\\odot c_{t-1} + i\\odot g \\hspace{4pc}\n",
    "h_t = o\\odot\\tanh(c_t)\n",
    "$$\n",
    "\n",
    "where $\\odot$ is the elementwise product of vectors.\n",
    "\n",
    "In the rest of the notebook we will implement the LSTM update rule and apply it to the image captioning task. \n",
    "\n",
    "In the code, we assume that data is stored in batches so that $X_t \\in \\mathbb{R}^{N\\times D}$, and will work with *transposed* versions of the parameters: $W_x \\in \\mathbb{R}^{D \\times 4H}$, $W_h \\in \\mathbb{R}^{H\\times 4H}$ so that activations $A \\in \\mathbb{R}^{N\\times 4H}$ can be computed efficiently as $A = X_t W_x + H_{t-1} W_h$"
   ]
  },
  {
   "cell_type": "markdown",
   "metadata": {},
   "source": [
    "# LSTM: step forward\n",
    "Implement the forward pass for a single timestep of an LSTM in the `lstm_step_forward` function in the file `cs231n/rnn_layers.py`. This should be similar to the `rnn_step_forward` function that you implemented above, but using the LSTM update rule instead.\n",
    "\n",
    "Once you are done, run the following to perform a simple test of your implementation. You should see errors on the order of `e-8` or less."
   ]
  },
  {
   "cell_type": "code",
   "execution_count": 3,
   "metadata": {},
   "outputs": [
    {
     "name": "stdout",
     "output_type": "stream",
     "text": [
      "[0.24635157 0.28610883 0.32240467 0.35525807 0.38474904]\n",
      "[0.32986176 0.39145139 0.451556   0.51014116 0.56717407]\n"
     ]
    }
   ],
   "source": [
    "N, D, H = 3, 4, 5\n",
    "x = np.linspace(-0.4, 1.2, num=N*D).reshape(N, D)[0]\n",
    "prev_h = np.linspace(-0.3, 0.7, num=N*H).reshape(N, H)[0]\n",
    "prev_c = np.linspace(-0.4, 0.9, num=N*H).reshape(N, H)[0]\n",
    "Wx = np.linspace(-2.1, 1.3, num=4*D*H).reshape(D, 4 * H)\n",
    "Wh = np.linspace(-0.7, 2.2, num=4*H*H).reshape(H, 4 * H)\n",
    "b = np.linspace(0.3, 0.7, num=4*H)\n",
    "\n",
    "next_h, next_c, cache = lstm_step_forward(x, prev_h, prev_c, Wx, Wh, b)\n",
    "\n",
    "expected_next_h = np.asarray([\n",
    "    [ 0.24635157,  0.28610883,  0.32240467,  0.35525807,  0.38474904],\n",
    "    [ 0.49223563,  0.55611431,  0.61507696,  0.66844003,  0.7159181 ],\n",
    "    [ 0.56735664,  0.66310127,  0.74419266,  0.80889665,  0.858299  ]])\n",
    "expected_next_c = np.asarray([\n",
    "    [ 0.32986176,  0.39145139,  0.451556,    0.51014116,  0.56717407],\n",
    "    [ 0.66382255,  0.76674007,  0.87195994,  0.97902709,  1.08751345],\n",
    "    [ 0.74192008,  0.90592151,  1.07717006,  1.25120233,  1.42395676]])\n",
    "print(next_h)\n",
    "print(next_c)\n",
    "# print('next_h error: ', rel_error(expected_next_h, next_h))\n",
    "# print('next_c error: ', rel_error(expected_next_c, next_c))"
   ]
  },
  {
   "cell_type": "markdown",
   "metadata": {},
   "source": [
    "# LSTM: step backward\n",
    "Implement the backward pass for a single LSTM timestep in the function `lstm_step_backward` in the file `cs231n/rnn_layers.py`. Once you are done, run the following to perform numeric gradient checking on your implementation. You should see errors on the order of `e-7` or less."
   ]
  },
  {
   "cell_type": "code",
   "execution_count": 4,
   "metadata": {},
   "outputs": [
    {
     "name": "stdout",
     "output_type": "stream",
     "text": [
      "dx error:  4.672404587236099e-10\n",
      "dh error:  3.626838061300042e-11\n",
      "dc error:  6.217679045996917e-11\n",
      "dWx error:  1.392802934457366e-06\n",
      "dWh error:  7.417560892164377e-07\n",
      "db error:  3.832740711822377e-08\n"
     ]
    }
   ],
   "source": [
    "np.random.seed(231)\n",
    "\n",
    "D, H = 5, 6\n",
    "x = np.random.randn(D)\n",
    "prev_h = np.random.randn(H)\n",
    "prev_c = np.random.randn(H)\n",
    "Wx = np.random.randn(D, 4 * H)\n",
    "Wh = np.random.randn(H, 4 * H)\n",
    "b = np.random.randn(4 * H)\n",
    "\n",
    "next_h, next_c, cache = lstm_step_forward(x, prev_h, prev_c, Wx, Wh, b)\n",
    "\n",
    "dnext_h = np.random.randn(*next_h.shape)\n",
    "dnext_c = np.random.randn(*next_c.shape)\n",
    "\n",
    "fx_h = lambda x: lstm_step_forward(x, prev_h, prev_c, Wx, Wh, b)[0]\n",
    "fh_h = lambda h: lstm_step_forward(x, prev_h, prev_c, Wx, Wh, b)[0]\n",
    "fc_h = lambda c: lstm_step_forward(x, prev_h, prev_c, Wx, Wh, b)[0]\n",
    "fWx_h = lambda Wx: lstm_step_forward(x, prev_h, prev_c, Wx, Wh, b)[0]\n",
    "fWh_h = lambda Wh: lstm_step_forward(x, prev_h, prev_c, Wx, Wh, b)[0]\n",
    "fb_h = lambda b: lstm_step_forward(x, prev_h, prev_c, Wx, Wh, b)[0]\n",
    "\n",
    "fx_c = lambda x: lstm_step_forward(x, prev_h, prev_c, Wx, Wh, b)[1]\n",
    "fh_c = lambda h: lstm_step_forward(x, prev_h, prev_c, Wx, Wh, b)[1]\n",
    "fc_c = lambda c: lstm_step_forward(x, prev_h, prev_c, Wx, Wh, b)[1]\n",
    "fWx_c = lambda Wx: lstm_step_forward(x, prev_h, prev_c, Wx, Wh, b)[1]\n",
    "fWh_c = lambda Wh: lstm_step_forward(x, prev_h, prev_c, Wx, Wh, b)[1]\n",
    "fb_c = lambda b: lstm_step_forward(x, prev_h, prev_c, Wx, Wh, b)[1]\n",
    "\n",
    "num_grad = eval_numerical_gradient_array\n",
    "\n",
    "dx_num = num_grad(fx_h, x, dnext_h) + num_grad(fx_c, x, dnext_c)\n",
    "dh_num = num_grad(fh_h, prev_h, dnext_h) + num_grad(fh_c, prev_h, dnext_c)\n",
    "dc_num = num_grad(fc_h, prev_c, dnext_h) + num_grad(fc_c, prev_c, dnext_c)\n",
    "dWx_num = num_grad(fWx_h, Wx, dnext_h) + num_grad(fWx_c, Wx, dnext_c)\n",
    "dWh_num = num_grad(fWh_h, Wh, dnext_h) + num_grad(fWh_c, Wh, dnext_c)\n",
    "db_num = num_grad(fb_h, b, dnext_h) + num_grad(fb_c, b, dnext_c)\n",
    "\n",
    "dx, dh, dc, dWx, dWh, db = lstm_step_backward(dnext_h, dnext_c, cache)\n",
    "\n",
    "print('dx error: ', rel_error(dx_num, dx))\n",
    "print('dh error: ', rel_error(dh_num, dh))\n",
    "print('dc error: ', rel_error(dc_num, dc))\n",
    "print('dWx error: ', rel_error(dWx_num, dWx))\n",
    "print('dWh error: ', rel_error(dWh_num, dWh))\n",
    "print('db error: ', rel_error(db_num, db))"
   ]
  },
  {
   "cell_type": "markdown",
   "metadata": {},
   "source": [
    "# LSTM: forward\n",
    "In the function `lstm_forward` in the file `cs231n/rnn_layers.py`, implement the `lstm_forward` function to run an LSTM forward on an entire timeseries of data.\n",
    "\n",
    "When you are done, run the following to check your implementation. You should see an error on the order of `e-7` or less."
   ]
  },
  {
   "cell_type": "code",
   "execution_count": 5,
   "metadata": {},
   "outputs": [
    {
     "name": "stdout",
     "output_type": "stream",
     "text": [
      "[[0.01764008 0.01823233 0.01882671 0.0194232 ]\n",
      " [0.11287491 0.12146228 0.13018446 0.13902939]\n",
      " [0.31358768 0.33338627 0.35304453 0.37250975]]\n"
     ]
    }
   ],
   "source": [
    "N, D, H, T = 2, 5, 4, 3\n",
    "x = np.linspace(-0.4, 0.6, num=N*T*D).reshape(N, T, D)[0]\n",
    "h0 = np.linspace(-0.4, 0.8, num=N*H).reshape(N, H)[0]\n",
    "Wx = np.linspace(-0.2, 0.9, num=4*D*H).reshape(D, 4 * H)\n",
    "Wh = np.linspace(-0.3, 0.6, num=4*H*H).reshape(H, 4 * H)\n",
    "b = np.linspace(0.2, 0.7, num=4*H)\n",
    "\n",
    "h, cache = lstm_forward(x, h0, Wx, Wh, b)\n",
    "\n",
    "expected_h = np.asarray([\n",
    " [[ 0.01764008,  0.01823233,  0.01882671,  0.0194232 ],\n",
    "  [ 0.11287491,  0.12146228,  0.13018446,  0.13902939],\n",
    "  [ 0.31358768,  0.33338627,  0.35304453,  0.37250975]],\n",
    " [[ 0.45767879,  0.4761092,   0.4936887,   0.51041945],\n",
    "  [ 0.6704845,   0.69350089,  0.71486014,  0.7346449 ],\n",
    "  [ 0.81733511,  0.83677871,  0.85403753,  0.86935314]]])\n",
    "\n",
    "print(h)\n",
    "# print('h error: ', rel_error(expected_h, h))"
   ]
  },
  {
   "cell_type": "markdown",
   "metadata": {},
   "source": [
    "# LSTM: backward\n",
    "Implement the backward pass for an LSTM over an entire timeseries of data in the function `lstm_backward` in the file `cs231n/rnn_layers.py`. When you are done, run the following to perform numeric gradient checking on your implementation. You should see errors on the order of `e-8` or less. (For `dWh`, it's fine if your error is on the order of `e-6` or less)."
   ]
  },
  {
   "cell_type": "code",
   "execution_count": 6,
   "metadata": {},
   "outputs": [
    {
     "name": "stdout",
     "output_type": "stream",
     "text": [
      "dx error:  3.301122348725077e-10\n",
      "dh0 error:  5.45306180413808e-11\n",
      "dWx error:  2.3517550696691468e-07\n",
      "dWh error:  2.774927838765104e-08\n",
      "db error:  4.276687316114384e-09\n"
     ]
    }
   ],
   "source": [
    "from rnn_layers import lstm_forward, lstm_backward\n",
    "np.random.seed(231)\n",
    "\n",
    "N, D, T, H = 2, 3, 10, 6\n",
    "\n",
    "x = np.random.randn(T, D)\n",
    "h0 = np.random.randn(H)\n",
    "Wx = np.random.randn(D, 4 * H)\n",
    "Wh = np.random.randn(H, 4 * H)\n",
    "b = np.random.randn(4 * H)\n",
    "\n",
    "out, cache = lstm_forward(x, h0, Wx, Wh, b)\n",
    "\n",
    "dout = np.random.randn(*out.shape)\n",
    "\n",
    "dx, dh0, dWx, dWh, db = lstm_backward(dout, cache)\n",
    "\n",
    "fx = lambda x: lstm_forward(x, h0, Wx, Wh, b)[0]\n",
    "fh0 = lambda h0: lstm_forward(x, h0, Wx, Wh, b)[0]\n",
    "fWx = lambda Wx: lstm_forward(x, h0, Wx, Wh, b)[0]\n",
    "fWh = lambda Wh: lstm_forward(x, h0, Wx, Wh, b)[0]\n",
    "fb = lambda b: lstm_forward(x, h0, Wx, Wh, b)[0]\n",
    "\n",
    "dx_num = eval_numerical_gradient_array(fx, x, dout)\n",
    "dh0_num = eval_numerical_gradient_array(fh0, h0, dout)\n",
    "dWx_num = eval_numerical_gradient_array(fWx, Wx, dout)\n",
    "dWh_num = eval_numerical_gradient_array(fWh, Wh, dout)\n",
    "db_num = eval_numerical_gradient_array(fb, b, dout)\n",
    "\n",
    "print('dx error: ', rel_error(dx_num, dx))\n",
    "print('dh0 error: ', rel_error(dh0_num, dh0))\n",
    "print('dWx error: ', rel_error(dWx_num, dWx))\n",
    "print('dWh error: ', rel_error(dWh_num, dWh))\n",
    "print('db error: ', rel_error(db_num, db))"
   ]
  },
  {
   "cell_type": "markdown",
   "metadata": {},
   "source": [
    "# INLINE QUESTION"
   ]
  },
  {
   "cell_type": "markdown",
   "metadata": {},
   "source": [
    "Recall that in an LSTM the input gate $i$, forget gate $f$, and output gate $o$ are all outputs of a sigmoid function. Why don't we use the ReLU activation function instead of sigmoid to compute these values? Explain."
   ]
  },
  {
   "cell_type": "markdown",
   "metadata": {},
   "source": [
    "# LSTM captioning model\n",
    "\n",
    "Now that you have implemented an LSTM, update the implementation of the `loss` method of the `CaptioningRNN` class in the file `cs231n/classifiers/rnn.py` to handle the case where `self.cell_type` is `lstm`. This should require adding less than 10 lines of code.\n",
    "\n",
    "Once you have done so, run the following to check your implementation. You should see a difference on the order of `e-10` or less."
   ]
  },
  {
   "cell_type": "code",
   "execution_count": 7,
   "metadata": {},
   "outputs": [
    {
     "name": "stdout",
     "output_type": "stream",
     "text": [
      "loss:  1.5068081753804687\n",
      "expected loss:  9.82445935443\n",
      "difference:  15058.257294450257\n"
     ]
    }
   ],
   "source": [
    "N, D, W, H = 10, 20, 30, 40\n",
    "word_to_idx = {'<NULL>': 0, 'cat': 1, 'dog': 2}\n",
    "V = len(word_to_idx)\n",
    "T = 10000\n",
    "\n",
    "model = CharRNN(word_to_idx,\n",
    "          wordvec_dim=W,\n",
    "          hidden_dim=H,\n",
    "          cell_type='lstm',\n",
    "          dtype=np.float64)\n",
    "\n",
    "# Set all model parameters to fixed values\n",
    "for k, v in model.params.items():\n",
    "  model.params[k] = np.random.rand(*v.shape)\n",
    "\n",
    "captions = np.arange(T) % V\n",
    "\n",
    "loss, grads = model.loss(captions)\n",
    "expected_loss = 9.82445935443\n",
    "\n",
    "print('loss: ', loss / 10000)\n",
    "print('expected loss: ', expected_loss)\n",
    "print('difference: ', abs(loss - expected_loss))"
   ]
  },
  {
   "cell_type": "markdown",
   "metadata": {},
   "source": [
    "# Overfit LSTM captioning model\n",
    "Run the following to overfit an LSTM captioning model on the same small dataset as we used for the RNN previously. You should see a final loss less than 0.5."
   ]
  },
  {
   "cell_type": "code",
   "execution_count": 9,
   "metadata": {},
   "outputs": [
    {
     "name": "stdout",
     "output_type": "stream",
     "text": [
      "new epoch\n",
      "(Iteration 1 / 1000) loss: 336.621012\n",
      "(Iteration 11 / 1000) loss: 305.030737\n",
      "new epoch\n",
      "(Iteration 21 / 1000) loss: 291.842245\n",
      "(Iteration 31 / 1000) loss: 281.179796\n",
      "new epoch\n",
      "(Iteration 41 / 1000) loss: 272.890662\n",
      "(Iteration 51 / 1000) loss: 256.167123\n",
      "new epoch\n",
      "(Iteration 61 / 1000) loss: 256.980159\n",
      "(Iteration 71 / 1000) loss: 241.531759\n",
      "new epoch\n",
      "(Iteration 81 / 1000) loss: 252.402711\n",
      "(Iteration 91 / 1000) loss: 229.552610\n",
      "new epoch\n",
      "(Iteration 101 / 1000) loss: 240.519474\n",
      "(Iteration 111 / 1000) loss: 209.593025\n",
      "new epoch\n",
      "(Iteration 121 / 1000) loss: 226.765958\n",
      "(Iteration 131 / 1000) loss: 187.691754\n",
      "new epoch\n",
      "(Iteration 141 / 1000) loss: 210.557399\n",
      "(Iteration 151 / 1000) loss: 164.392192\n",
      "new epoch\n",
      "(Iteration 161 / 1000) loss: 186.458862\n",
      "(Iteration 171 / 1000) loss: 144.681443\n",
      "new epoch\n",
      "(Iteration 181 / 1000) loss: 160.732167\n",
      "(Iteration 191 / 1000) loss: 130.474816\n",
      "new epoch\n",
      "(Iteration 201 / 1000) loss: 136.401020\n",
      "(Iteration 211 / 1000) loss: 116.213038\n",
      "new epoch\n",
      "(Iteration 221 / 1000) loss: 112.272616\n",
      "(Iteration 231 / 1000) loss: 101.783921\n",
      "new epoch\n",
      "(Iteration 241 / 1000) loss: 93.927886\n",
      "(Iteration 251 / 1000) loss: 84.278701\n",
      "new epoch\n",
      "(Iteration 261 / 1000) loss: 82.774555\n",
      "(Iteration 271 / 1000) loss: 72.118922\n",
      "new epoch\n",
      "(Iteration 281 / 1000) loss: 59.975506\n",
      "(Iteration 291 / 1000) loss: 54.847000\n",
      "new epoch\n",
      "(Iteration 301 / 1000) loss: 44.320511\n",
      "(Iteration 311 / 1000) loss: 42.135452\n",
      "new epoch\n",
      "(Iteration 321 / 1000) loss: 31.913190\n",
      "(Iteration 331 / 1000) loss: 33.249668\n",
      "new epoch\n",
      "(Iteration 341 / 1000) loss: 26.282889\n",
      "(Iteration 351 / 1000) loss: 25.800257\n",
      "new epoch\n",
      "(Iteration 361 / 1000) loss: 23.481623\n",
      "(Iteration 371 / 1000) loss: 25.221056\n",
      "new epoch\n",
      "(Iteration 381 / 1000) loss: 18.122558\n",
      "(Iteration 391 / 1000) loss: 17.846153\n",
      "new epoch\n",
      "(Iteration 401 / 1000) loss: 14.037766\n",
      "(Iteration 411 / 1000) loss: 16.039341\n",
      "new epoch\n",
      "(Iteration 421 / 1000) loss: 13.549035\n",
      "(Iteration 431 / 1000) loss: 11.832682\n",
      "new epoch\n",
      "(Iteration 441 / 1000) loss: 9.446984\n",
      "(Iteration 451 / 1000) loss: 9.402191\n",
      "new epoch\n",
      "(Iteration 461 / 1000) loss: 7.388116\n",
      "(Iteration 471 / 1000) loss: 9.903128\n",
      "new epoch\n",
      "(Iteration 481 / 1000) loss: 6.721626\n",
      "(Iteration 491 / 1000) loss: 7.367374\n",
      "new epoch\n",
      "(Iteration 501 / 1000) loss: 5.950495\n",
      "(Iteration 511 / 1000) loss: 6.830119\n",
      "new epoch\n",
      "(Iteration 521 / 1000) loss: 5.419640\n",
      "(Iteration 531 / 1000) loss: 5.631763\n",
      "new epoch\n",
      "(Iteration 541 / 1000) loss: 4.889260\n",
      "(Iteration 551 / 1000) loss: 5.138110\n",
      "new epoch\n",
      "(Iteration 561 / 1000) loss: 4.625020\n",
      "(Iteration 571 / 1000) loss: 4.749306\n",
      "new epoch\n",
      "(Iteration 581 / 1000) loss: 4.287015\n",
      "(Iteration 591 / 1000) loss: 4.452680\n",
      "new epoch\n",
      "(Iteration 601 / 1000) loss: 4.072853\n",
      "(Iteration 611 / 1000) loss: 4.191092\n",
      "new epoch\n",
      "(Iteration 621 / 1000) loss: 3.839325\n",
      "(Iteration 631 / 1000) loss: 3.976103\n",
      "new epoch\n",
      "(Iteration 641 / 1000) loss: 3.671460\n",
      "(Iteration 651 / 1000) loss: 3.784468\n",
      "new epoch\n",
      "(Iteration 661 / 1000) loss: 3.511350\n",
      "(Iteration 671 / 1000) loss: 3.624002\n",
      "new epoch\n",
      "(Iteration 681 / 1000) loss: 3.384048\n",
      "(Iteration 691 / 1000) loss: 3.470861\n",
      "new epoch\n",
      "(Iteration 701 / 1000) loss: 3.266348\n",
      "(Iteration 711 / 1000) loss: 3.358558\n",
      "new epoch\n",
      "(Iteration 721 / 1000) loss: 3.158157\n",
      "(Iteration 731 / 1000) loss: 3.229115\n",
      "new epoch\n",
      "(Iteration 741 / 1000) loss: 3.057094\n",
      "(Iteration 751 / 1000) loss: 3.129615\n",
      "new epoch\n",
      "(Iteration 761 / 1000) loss: 2.961966\n",
      "(Iteration 771 / 1000) loss: 3.039404\n",
      "new epoch\n",
      "(Iteration 781 / 1000) loss: 2.884254\n",
      "(Iteration 791 / 1000) loss: 2.956596\n",
      "new epoch\n",
      "(Iteration 801 / 1000) loss: 2.808076\n",
      "(Iteration 811 / 1000) loss: 2.882316\n",
      "new epoch\n",
      "(Iteration 821 / 1000) loss: 2.745280\n",
      "(Iteration 831 / 1000) loss: 2.811988\n",
      "new epoch\n",
      "(Iteration 841 / 1000) loss: 2.679952\n",
      "(Iteration 851 / 1000) loss: 2.750785\n",
      "new epoch\n",
      "(Iteration 861 / 1000) loss: 2.625083\n",
      "(Iteration 871 / 1000) loss: 2.690630\n",
      "new epoch\n",
      "(Iteration 881 / 1000) loss: 2.573561\n",
      "(Iteration 891 / 1000) loss: 2.644646\n",
      "new epoch\n",
      "(Iteration 901 / 1000) loss: 2.529318\n",
      "(Iteration 911 / 1000) loss: 2.593588\n",
      "new epoch\n",
      "(Iteration 921 / 1000) loss: 2.492982\n",
      "(Iteration 931 / 1000) loss: 2.570105\n",
      "new epoch\n",
      "(Iteration 941 / 1000) loss: 2.459788\n",
      "(Iteration 951 / 1000) loss: 2.510896\n",
      "new epoch\n",
      "(Iteration 961 / 1000) loss: 2.422565\n",
      "(Iteration 971 / 1000) loss: 2.468863\n",
      "new epoch\n",
      "(Iteration 981 / 1000) loss: 2.385135\n",
      "(Iteration 991 / 1000) loss: 2.435845\n"
     ]
    },
    {
     "data": {
      "image/png": "[encoded data removed]",
      "text/plain": [
       "<Figure size 432x288 with 1 Axes>"
      ]
     },
     "metadata": {},
     "output_type": "display_data"
    }
   ],
   "source": [
    "np.random.seed(231)\n",
    "import pickle\n",
    "from data import Data\n",
    "\n",
    "\n",
    "with open('dicts/char2ix.pk', 'rb') as f:\n",
    "    char2ix = pickle.load(f)\n",
    "data = Data()\n",
    "small_lstm_model = CharRNN(\n",
    "          cell_type='lstm',\n",
    "          word_to_idx=char2ix,\n",
    "          hidden_dim=256,\n",
    "          wordvec_dim=128,\n",
    "          dtype=np.float32,\n",
    "        )\n",
    "\n",
    "small_lstm_solver = CharSolver(small_lstm_model, data,\n",
    "           update_rule='adam',\n",
    "           num_epochs=50,\n",
    "           batch_size=100,\n",
    "           optim_config={\n",
    "             'learning_rate': 5e-3,\n",
    "           },\n",
    "           lr_decay=0.995,\n",
    "           verbose=True, print_every=10,\n",
    "         )\n",
    "\n",
    "small_lstm_solver.train()\n",
    "\n",
    "# Plot the training losses\n",
    "plt.plot(small_lstm_solver.loss_history)\n",
    "plt.xlabel('Iteration')\n",
    "plt.ylabel('Loss')\n",
    "plt.title('Training loss history')\n",
    "plt.show()"
   ]
  },
  {
   "cell_type": "markdown",
   "metadata": {},
   "source": [
    "# LSTM test-time sampling\n",
    "Modify the `sample` method of the `CaptioningRNN` class to handle the case where `self.cell_type` is `lstm`. This should take fewer than 10 lines of code.\n",
    "\n",
    "When you are done run the following to sample from your overfit LSTM model on some training and validation set samples. As with the RNN, training results should be very good, and validation results probably won't make a lot of sense (because we're overfitting)."
   ]
  },
  {
   "cell_type": "code",
   "execution_count": 28,
   "metadata": {},
   "outputs": [
    {
     "name": "stdout",
     "output_type": "stream",
     "text": [
      "dW error:  3.275594162452368e-12\n"
     ]
    }
   ],
   "source": [
    "np.random.seed(231)\n",
    "\n",
    "N, T, V, D = 50, 3, 5, 6\n",
    "x = np.random.randint(V, size=(T))\n",
    "W = np.random.randn(V, D)\n",
    "\n",
    "out, cache = word_embedding_forward(x, W)\n",
    "dout = np.random.randn(*out.shape)\n",
    "dW = word_embedding_backward(dout, cache)\n",
    "\n",
    "f = lambda W: word_embedding_forward(x, W)[0]\n",
    "dW_num = eval_numerical_gradient_array(f, W, dout)\n",
    "\n",
    "print('dW error: ', rel_error(dW, dW_num))"
   ]
  },
  {
   "cell_type": "code",
   "execution_count": 12,
   "metadata": {},
   "outputs": [
    {
     "name": "stdout",
     "output_type": "stream",
     "text": [
      "1001\n",
      "甄士隐，人只嚷：“快请明，方使太见众石俱得乱跑。原来人姓。谁知此石自经煅炼之后，灵不说荣快浅么之后。阊疯差“因自来陪笑启问。’了，不见众石俱得补天，独自己无材不瑞只用了三万六千五百零一块。唐，细按则深有趣味。待在，并不在此山三万六千五百零一块。童不贾了，出甄士隐梦幻识通灵　贾\n"
     ]
    }
   ],
   "source": [
    "from transformation import *\n",
    "tensor = small_lstm_model.sample()\n",
    "with open('dicts/ix2char.pk', 'rb') as f:\n",
    "    ix2char = pickle.load(f)\n",
    "text = num2eng(tensor, ix2char)\n",
    "with open('dicts/eng2chn', 'rb') as f:\n",
    "    eng2chn_dict = pickle.load(f)\n",
    "text2 = eng2chn(text, eng2chn_dict)\n",
    "print(len(text))\n",
    "print(text2)"
   ]
  },
  {
   "cell_type": "code",
   "execution_count": null,
   "metadata": {},
   "outputs": [],
   "source": []
  }
 ],
 "metadata": {
  "kernelspec": {
   "display_name": "Python 3",
   "language": "python",
   "name": "python3"
  },
  "language_info": {
   "codemirror_mode": {
    "name": "ipython",
    "version": 3
   },
   "file_extension": ".py",
   "mimetype": "text/x-python",
   "name": "python",
   "nbconvert_exporter": "python",
   "pygments_lexer": "ipython3",
   "version": "3.6.6"
  }
 },
 "nbformat": 4,
 "nbformat_minor": 1
}
