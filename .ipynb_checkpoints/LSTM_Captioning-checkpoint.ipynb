{
 "cells": [
  {
   "cell_type": "markdown",
   "metadata": {},
   "source": [
    "# Image Captioning with LSTMs\n",
    "In the previous exercise you implemented a vanilla RNN and applied it to image captioning. In this notebook you will implement the LSTM update rule and use it for image captioning."
   ]
  },
  {
   "cell_type": "code",
   "execution_count": 1,
   "metadata": {},
   "outputs": [],
   "source": [
    "# As usual, a bit of setup\n",
    "import time, os, json\n",
    "import numpy as np\n",
    "import matplotlib.pyplot as plt\n",
    "\n",
    "from gradient_check import eval_numerical_gradient, eval_numerical_gradient_array\n",
    "from rnn_layers import *\n",
    "from solver import CharSolver\n",
    "from rnn import CharRNN\n",
    "\n",
    "%matplotlib inline\n",
    "plt.rcParams['figure.figsize'] = (10.0, 8.0) # set default size of plots\n",
    "plt.rcParams['image.interpolation'] = 'nearest'\n",
    "plt.rcParams['image.cmap'] = 'gray'\n",
    "\n",
    "# for auto-reloading external modules\n",
    "# see http://stackoverflow.com/questions/1907993/autoreload-of-modules-in-ipython\n",
    "%load_ext autoreload\n",
    "%autoreload 2\n",
    "\n",
    "def rel_error(x, y):\n",
    "    \"\"\" returns relative error \"\"\"\n",
    "    return np.max(np.abs(x - y) / (np.maximum(1e-8, np.abs(x) + np.abs(y))))"
   ]
  },
  {
   "cell_type": "markdown",
   "metadata": {},
   "source": [
    "# Load MS-COCO data\n",
    "As in the previous notebook, we will use the Microsoft COCO dataset for captioning."
   ]
  },
  {
   "cell_type": "code",
   "execution_count": 2,
   "metadata": {},
   "outputs": [
    {
     "name": "stdout",
     "output_type": "stream",
     "text": [
      "[[0.         0.07142857 0.14285714]\n",
      " [0.64285714 0.71428571 0.78571429]\n",
      " [0.21428571 0.28571429 0.35714286]\n",
      " [0.42857143 0.5        0.57142857]]\n"
     ]
    }
   ],
   "source": [
    "N, T, V, D = 2, 4, 5, 3\n",
    "\n",
    "x = np.asarray([[0, 3, 1, 2], [2, 1, 0, 3]])[0]\n",
    "W = np.linspace(0, 1, num=V*D).reshape(V, D)\n",
    "\n",
    "out, _ = word_embedding_forward(x, W)\n",
    "expected_out = np.asarray([\n",
    " [[ 0.,          0.07142857,  0.14285714],\n",
    "  [ 0.64285714,  0.71428571,  0.78571429],\n",
    "  [ 0.21428571,  0.28571429,  0.35714286],\n",
    "  [ 0.42857143,  0.5,         0.57142857]],\n",
    " [[ 0.42857143,  0.5,         0.57142857],\n",
    "  [ 0.21428571,  0.28571429,  0.35714286],\n",
    "  [ 0.,          0.07142857,  0.14285714],\n",
    "  [ 0.64285714,  0.71428571,  0.78571429]]])\n",
    "print(out)\n",
    "# print('out error: ', rel_error(expected_out, out))"
   ]
  },
  {
   "cell_type": "markdown",
   "metadata": {},
   "source": [
    "# LSTM\n",
    "If you read recent papers, you'll see that many people use a variant on the vanilla RNN called Long-Short Term Memory (LSTM) RNNs. Vanilla RNNs can be tough to train on long sequences due to vanishing and exploding gradients caused by repeated matrix multiplication. LSTMs solve this problem by replacing the simple update rule of the vanilla RNN with a gating mechanism as follows.\n",
    "\n",
    "Similar to the vanilla RNN, at each timestep we receive an input $x_t\\in\\mathbb{R}^D$ and the previous hidden state $h_{t-1}\\in\\mathbb{R}^H$; the LSTM also maintains an $H$-dimensional *cell state*, so we also receive the previous cell state $c_{t-1}\\in\\mathbb{R}^H$. The learnable parameters of the LSTM are an *input-to-hidden* matrix $W_x\\in\\mathbb{R}^{4H\\times D}$, a *hidden-to-hidden* matrix $W_h\\in\\mathbb{R}^{4H\\times H}$ and a *bias vector* $b\\in\\mathbb{R}^{4H}$.\n",
    "\n",
    "At each timestep we first compute an *activation vector* $a\\in\\mathbb{R}^{4H}$ as $a=W_xx_t + W_hh_{t-1}+b$. We then divide this into four vectors $a_i,a_f,a_o,a_g\\in\\mathbb{R}^H$ where $a_i$ consists of the first $H$ elements of $a$, $a_f$ is the next $H$ elements of $a$, etc. We then compute the *input gate* $g\\in\\mathbb{R}^H$, *forget gate* $f\\in\\mathbb{R}^H$, *output gate* $o\\in\\mathbb{R}^H$ and *block input* $g\\in\\mathbb{R}^H$ as\n",
    "\n",
    "$$\n",
    "\\begin{align*}\n",
    "i = \\sigma(a_i) \\hspace{2pc}\n",
    "f = \\sigma(a_f) \\hspace{2pc}\n",
    "o = \\sigma(a_o) \\hspace{2pc}\n",
    "g = \\tanh(a_g)\n",
    "\\end{align*}\n",
    "$$\n",
    "\n",
    "where $\\sigma$ is the sigmoid function and $\\tanh$ is the hyperbolic tangent, both applied elementwise.\n",
    "\n",
    "Finally we compute the next cell state $c_t$ and next hidden state $h_t$ as\n",
    "\n",
    "$$\n",
    "c_{t} = f\\odot c_{t-1} + i\\odot g \\hspace{4pc}\n",
    "h_t = o\\odot\\tanh(c_t)\n",
    "$$\n",
    "\n",
    "where $\\odot$ is the elementwise product of vectors.\n",
    "\n",
    "In the rest of the notebook we will implement the LSTM update rule and apply it to the image captioning task. \n",
    "\n",
    "In the code, we assume that data is stored in batches so that $X_t \\in \\mathbb{R}^{N\\times D}$, and will work with *transposed* versions of the parameters: $W_x \\in \\mathbb{R}^{D \\times 4H}$, $W_h \\in \\mathbb{R}^{H\\times 4H}$ so that activations $A \\in \\mathbb{R}^{N\\times 4H}$ can be computed efficiently as $A = X_t W_x + H_{t-1} W_h$"
   ]
  },
  {
   "cell_type": "markdown",
   "metadata": {},
   "source": [
    "# LSTM: step forward\n",
    "Implement the forward pass for a single timestep of an LSTM in the `lstm_step_forward` function in the file `cs231n/rnn_layers.py`. This should be similar to the `rnn_step_forward` function that you implemented above, but using the LSTM update rule instead.\n",
    "\n",
    "Once you are done, run the following to perform a simple test of your implementation. You should see errors on the order of `e-8` or less."
   ]
  },
  {
   "cell_type": "code",
   "execution_count": 3,
   "metadata": {},
   "outputs": [
    {
     "name": "stdout",
     "output_type": "stream",
     "text": [
      "[0.24635157 0.28610883 0.32240467 0.35525807 0.38474904]\n",
      "[0.32986176 0.39145139 0.451556   0.51014116 0.56717407]\n"
     ]
    }
   ],
   "source": [
    "N, D, H = 3, 4, 5\n",
    "x = np.linspace(-0.4, 1.2, num=N*D).reshape(N, D)[0]\n",
    "prev_h = np.linspace(-0.3, 0.7, num=N*H).reshape(N, H)[0]\n",
    "prev_c = np.linspace(-0.4, 0.9, num=N*H).reshape(N, H)[0]\n",
    "Wx = np.linspace(-2.1, 1.3, num=4*D*H).reshape(D, 4 * H)\n",
    "Wh = np.linspace(-0.7, 2.2, num=4*H*H).reshape(H, 4 * H)\n",
    "b = np.linspace(0.3, 0.7, num=4*H)\n",
    "\n",
    "next_h, next_c, cache = lstm_step_forward(x, prev_h, prev_c, Wx, Wh, b)\n",
    "\n",
    "expected_next_h = np.asarray([\n",
    "    [ 0.24635157,  0.28610883,  0.32240467,  0.35525807,  0.38474904],\n",
    "    [ 0.49223563,  0.55611431,  0.61507696,  0.66844003,  0.7159181 ],\n",
    "    [ 0.56735664,  0.66310127,  0.74419266,  0.80889665,  0.858299  ]])\n",
    "expected_next_c = np.asarray([\n",
    "    [ 0.32986176,  0.39145139,  0.451556,    0.51014116,  0.56717407],\n",
    "    [ 0.66382255,  0.76674007,  0.87195994,  0.97902709,  1.08751345],\n",
    "    [ 0.74192008,  0.90592151,  1.07717006,  1.25120233,  1.42395676]])\n",
    "print(next_h)\n",
    "print(next_c)\n",
    "# print('next_h error: ', rel_error(expected_next_h, next_h))\n",
    "# print('next_c error: ', rel_error(expected_next_c, next_c))"
   ]
  },
  {
   "cell_type": "markdown",
   "metadata": {},
   "source": [
    "# LSTM: step backward\n",
    "Implement the backward pass for a single LSTM timestep in the function `lstm_step_backward` in the file `cs231n/rnn_layers.py`. Once you are done, run the following to perform numeric gradient checking on your implementation. You should see errors on the order of `e-7` or less."
   ]
  },
  {
   "cell_type": "code",
   "execution_count": 4,
   "metadata": {},
   "outputs": [
    {
     "name": "stdout",
     "output_type": "stream",
     "text": [
      "dx error:  4.672404587236099e-10\n",
      "dh error:  3.626838061300042e-11\n",
      "dc error:  6.217679045996917e-11\n",
      "dWx error:  1.392802934457366e-06\n",
      "dWh error:  7.417560892164377e-07\n",
      "db error:  3.832740711822377e-08\n"
     ]
    }
   ],
   "source": [
    "np.random.seed(231)\n",
    "\n",
    "D, H = 5, 6\n",
    "x = np.random.randn(D)\n",
    "prev_h = np.random.randn(H)\n",
    "prev_c = np.random.randn(H)\n",
    "Wx = np.random.randn(D, 4 * H)\n",
    "Wh = np.random.randn(H, 4 * H)\n",
    "b = np.random.randn(4 * H)\n",
    "\n",
    "next_h, next_c, cache = lstm_step_forward(x, prev_h, prev_c, Wx, Wh, b)\n",
    "\n",
    "dnext_h = np.random.randn(*next_h.shape)\n",
    "dnext_c = np.random.randn(*next_c.shape)\n",
    "\n",
    "fx_h = lambda x: lstm_step_forward(x, prev_h, prev_c, Wx, Wh, b)[0]\n",
    "fh_h = lambda h: lstm_step_forward(x, prev_h, prev_c, Wx, Wh, b)[0]\n",
    "fc_h = lambda c: lstm_step_forward(x, prev_h, prev_c, Wx, Wh, b)[0]\n",
    "fWx_h = lambda Wx: lstm_step_forward(x, prev_h, prev_c, Wx, Wh, b)[0]\n",
    "fWh_h = lambda Wh: lstm_step_forward(x, prev_h, prev_c, Wx, Wh, b)[0]\n",
    "fb_h = lambda b: lstm_step_forward(x, prev_h, prev_c, Wx, Wh, b)[0]\n",
    "\n",
    "fx_c = lambda x: lstm_step_forward(x, prev_h, prev_c, Wx, Wh, b)[1]\n",
    "fh_c = lambda h: lstm_step_forward(x, prev_h, prev_c, Wx, Wh, b)[1]\n",
    "fc_c = lambda c: lstm_step_forward(x, prev_h, prev_c, Wx, Wh, b)[1]\n",
    "fWx_c = lambda Wx: lstm_step_forward(x, prev_h, prev_c, Wx, Wh, b)[1]\n",
    "fWh_c = lambda Wh: lstm_step_forward(x, prev_h, prev_c, Wx, Wh, b)[1]\n",
    "fb_c = lambda b: lstm_step_forward(x, prev_h, prev_c, Wx, Wh, b)[1]\n",
    "\n",
    "num_grad = eval_numerical_gradient_array\n",
    "\n",
    "dx_num = num_grad(fx_h, x, dnext_h) + num_grad(fx_c, x, dnext_c)\n",
    "dh_num = num_grad(fh_h, prev_h, dnext_h) + num_grad(fh_c, prev_h, dnext_c)\n",
    "dc_num = num_grad(fc_h, prev_c, dnext_h) + num_grad(fc_c, prev_c, dnext_c)\n",
    "dWx_num = num_grad(fWx_h, Wx, dnext_h) + num_grad(fWx_c, Wx, dnext_c)\n",
    "dWh_num = num_grad(fWh_h, Wh, dnext_h) + num_grad(fWh_c, Wh, dnext_c)\n",
    "db_num = num_grad(fb_h, b, dnext_h) + num_grad(fb_c, b, dnext_c)\n",
    "\n",
    "dx, dh, dc, dWx, dWh, db = lstm_step_backward(dnext_h, dnext_c, cache)\n",
    "\n",
    "print('dx error: ', rel_error(dx_num, dx))\n",
    "print('dh error: ', rel_error(dh_num, dh))\n",
    "print('dc error: ', rel_error(dc_num, dc))\n",
    "print('dWx error: ', rel_error(dWx_num, dWx))\n",
    "print('dWh error: ', rel_error(dWh_num, dWh))\n",
    "print('db error: ', rel_error(db_num, db))"
   ]
  },
  {
   "cell_type": "markdown",
   "metadata": {},
   "source": [
    "# LSTM: forward\n",
    "In the function `lstm_forward` in the file `cs231n/rnn_layers.py`, implement the `lstm_forward` function to run an LSTM forward on an entire timeseries of data.\n",
    "\n",
    "When you are done, run the following to check your implementation. You should see an error on the order of `e-7` or less."
   ]
  },
  {
   "cell_type": "code",
   "execution_count": 5,
   "metadata": {},
   "outputs": [
    {
     "name": "stdout",
     "output_type": "stream",
     "text": [
      "[[0.01764008 0.01823233 0.01882671 0.0194232 ]\n",
      " [0.11287491 0.12146228 0.13018446 0.13902939]\n",
      " [0.31358768 0.33338627 0.35304453 0.37250975]]\n"
     ]
    }
   ],
   "source": [
    "N, D, H, T = 2, 5, 4, 3\n",
    "x = np.linspace(-0.4, 0.6, num=N*T*D).reshape(N, T, D)[0]\n",
    "h0 = np.linspace(-0.4, 0.8, num=N*H).reshape(N, H)[0]\n",
    "Wx = np.linspace(-0.2, 0.9, num=4*D*H).reshape(D, 4 * H)\n",
    "Wh = np.linspace(-0.3, 0.6, num=4*H*H).reshape(H, 4 * H)\n",
    "b = np.linspace(0.2, 0.7, num=4*H)\n",
    "\n",
    "h, cache = lstm_forward(x, h0, Wx, Wh, b)\n",
    "\n",
    "expected_h = np.asarray([\n",
    " [[ 0.01764008,  0.01823233,  0.01882671,  0.0194232 ],\n",
    "  [ 0.11287491,  0.12146228,  0.13018446,  0.13902939],\n",
    "  [ 0.31358768,  0.33338627,  0.35304453,  0.37250975]],\n",
    " [[ 0.45767879,  0.4761092,   0.4936887,   0.51041945],\n",
    "  [ 0.6704845,   0.69350089,  0.71486014,  0.7346449 ],\n",
    "  [ 0.81733511,  0.83677871,  0.85403753,  0.86935314]]])\n",
    "\n",
    "print(h)\n",
    "# print('h error: ', rel_error(expected_h, h))"
   ]
  },
  {
   "cell_type": "markdown",
   "metadata": {},
   "source": [
    "# LSTM: backward\n",
    "Implement the backward pass for an LSTM over an entire timeseries of data in the function `lstm_backward` in the file `cs231n/rnn_layers.py`. When you are done, run the following to perform numeric gradient checking on your implementation. You should see errors on the order of `e-8` or less. (For `dWh`, it's fine if your error is on the order of `e-6` or less)."
   ]
  },
  {
   "cell_type": "code",
   "execution_count": 6,
   "metadata": {},
   "outputs": [
    {
     "name": "stdout",
     "output_type": "stream",
     "text": [
      "dx error:  3.301122348725077e-10\n",
      "dh0 error:  5.45306180413808e-11\n",
      "dWx error:  2.3517550696691468e-07\n",
      "dWh error:  2.774927838765104e-08\n",
      "db error:  4.276687316114384e-09\n"
     ]
    }
   ],
   "source": [
    "from rnn_layers import lstm_forward, lstm_backward\n",
    "np.random.seed(231)\n",
    "\n",
    "N, D, T, H = 2, 3, 10, 6\n",
    "\n",
    "x = np.random.randn(T, D)\n",
    "h0 = np.random.randn(H)\n",
    "Wx = np.random.randn(D, 4 * H)\n",
    "Wh = np.random.randn(H, 4 * H)\n",
    "b = np.random.randn(4 * H)\n",
    "\n",
    "out, cache = lstm_forward(x, h0, Wx, Wh, b)\n",
    "\n",
    "dout = np.random.randn(*out.shape)\n",
    "\n",
    "dx, dh0, dWx, dWh, db = lstm_backward(dout, cache)\n",
    "\n",
    "fx = lambda x: lstm_forward(x, h0, Wx, Wh, b)[0]\n",
    "fh0 = lambda h0: lstm_forward(x, h0, Wx, Wh, b)[0]\n",
    "fWx = lambda Wx: lstm_forward(x, h0, Wx, Wh, b)[0]\n",
    "fWh = lambda Wh: lstm_forward(x, h0, Wx, Wh, b)[0]\n",
    "fb = lambda b: lstm_forward(x, h0, Wx, Wh, b)[0]\n",
    "\n",
    "dx_num = eval_numerical_gradient_array(fx, x, dout)\n",
    "dh0_num = eval_numerical_gradient_array(fh0, h0, dout)\n",
    "dWx_num = eval_numerical_gradient_array(fWx, Wx, dout)\n",
    "dWh_num = eval_numerical_gradient_array(fWh, Wh, dout)\n",
    "db_num = eval_numerical_gradient_array(fb, b, dout)\n",
    "\n",
    "print('dx error: ', rel_error(dx_num, dx))\n",
    "print('dh0 error: ', rel_error(dh0_num, dh0))\n",
    "print('dWx error: ', rel_error(dWx_num, dWx))\n",
    "print('dWh error: ', rel_error(dWh_num, dWh))\n",
    "print('db error: ', rel_error(db_num, db))"
   ]
  },
  {
   "cell_type": "markdown",
   "metadata": {},
   "source": [
    "# INLINE QUESTION"
   ]
  },
  {
   "cell_type": "markdown",
   "metadata": {},
   "source": [
    "Recall that in an LSTM the input gate $i$, forget gate $f$, and output gate $o$ are all outputs of a sigmoid function. Why don't we use the ReLU activation function instead of sigmoid to compute these values? Explain."
   ]
  },
  {
   "cell_type": "markdown",
   "metadata": {},
   "source": [
    "# LSTM captioning model\n",
    "\n",
    "Now that you have implemented an LSTM, update the implementation of the `loss` method of the `CaptioningRNN` class in the file `cs231n/classifiers/rnn.py` to handle the case where `self.cell_type` is `lstm`. This should require adding less than 10 lines of code.\n",
    "\n",
    "Once you have done so, run the following to check your implementation. You should see a difference on the order of `e-10` or less."
   ]
  },
  {
   "cell_type": "code",
   "execution_count": 7,
   "metadata": {},
   "outputs": [
    {
     "name": "stdout",
     "output_type": "stream",
     "text": [
      "loss:  1.5068081753804687\n",
      "expected loss:  9.82445935443\n",
      "difference:  15058.257294450257\n"
     ]
    }
   ],
   "source": [
    "N, D, W, H = 10, 20, 30, 40\n",
    "word_to_idx = {'<NULL>': 0, 'cat': 1, 'dog': 2}\n",
    "V = len(word_to_idx)\n",
    "T = 10000\n",
    "\n",
    "model = CharRNN(word_to_idx,\n",
    "          wordvec_dim=W,\n",
    "          hidden_dim=H,\n",
    "          cell_type='lstm',\n",
    "          dtype=np.float64)\n",
    "\n",
    "# Set all model parameters to fixed values\n",
    "for k, v in model.params.items():\n",
    "  model.params[k] = np.random.rand(*v.shape)\n",
    "\n",
    "captions = np.arange(T) % V\n",
    "\n",
    "loss, grads = model.loss(captions)\n",
    "expected_loss = 9.82445935443\n",
    "\n",
    "print('loss: ', loss / 10000)\n",
    "print('expected loss: ', expected_loss)\n",
    "print('difference: ', abs(loss - expected_loss))"
   ]
  },
  {
   "cell_type": "markdown",
   "metadata": {},
   "source": [
    "# Overfit LSTM captioning model\n",
    "Run the following to overfit an LSTM captioning model on the same small dataset as we used for the RNN previously. You should see a final loss less than 0.5."
   ]
  },
  {
   "cell_type": "code",
   "execution_count": 2,
   "metadata": {},
   "outputs": [
    {
     "name": "stdout",
     "output_type": "stream",
     "text": [
      "(Iteration 1 / 1950) loss: 84.206236\n",
      "(Iteration 11 / 1950) loss: 71.806034\n",
      "(Iteration 21 / 1950) loss: 73.737467\n",
      "(Iteration 31 / 1950) loss: 69.735608\n",
      "(Iteration 41 / 1950) loss: 72.415174\n",
      "(Iteration 51 / 1950) loss: 64.179393\n",
      "(Iteration 61 / 1950) loss: 60.880068\n",
      "(Iteration 71 / 1950) loss: 56.221371\n",
      "(Iteration 81 / 1950) loss: 63.966062\n",
      "(Iteration 91 / 1950) loss: 62.794331\n",
      "(Iteration 101 / 1950) loss: 51.707726\n",
      "(Iteration 111 / 1950) loss: 53.542736\n",
      "(Iteration 121 / 1950) loss: 55.857563\n",
      "(Iteration 131 / 1950) loss: 45.336686\n",
      "(Iteration 141 / 1950) loss: 47.972183\n",
      "(Iteration 151 / 1950) loss: 62.761898\n",
      "(Iteration 161 / 1950) loss: 50.185220\n",
      "(Iteration 171 / 1950) loss: 45.161052\n",
      "(Iteration 181 / 1950) loss: 40.853547\n",
      "(Iteration 191 / 1950) loss: 48.177504\n",
      "(Iteration 201 / 1950) loss: 43.632092\n",
      "(Iteration 211 / 1950) loss: 42.504475\n",
      "(Iteration 221 / 1950) loss: 34.959428\n",
      "(Iteration 231 / 1950) loss: 38.889295\n",
      "(Iteration 241 / 1950) loss: 30.594578\n",
      "(Iteration 251 / 1950) loss: 27.200865\n",
      "(Iteration 261 / 1950) loss: 29.463682\n",
      "(Iteration 271 / 1950) loss: 28.927963\n",
      "(Iteration 281 / 1950) loss: 25.297316\n",
      "(Iteration 291 / 1950) loss: 19.461697\n",
      "(Iteration 301 / 1950) loss: 25.741355\n",
      "(Iteration 311 / 1950) loss: 25.235890\n",
      "(Iteration 321 / 1950) loss: 31.262649\n",
      "(Iteration 331 / 1950) loss: 12.066382\n",
      "(Iteration 341 / 1950) loss: 21.565827\n",
      "(Iteration 351 / 1950) loss: 7.826864\n",
      "(Iteration 361 / 1950) loss: 11.776234\n",
      "(Iteration 371 / 1950) loss: 18.726128\n",
      "(Iteration 381 / 1950) loss: 11.777619\n",
      "(Iteration 391 / 1950) loss: 11.077599\n",
      "(Iteration 401 / 1950) loss: 16.304245\n",
      "(Iteration 411 / 1950) loss: 8.504671\n",
      "(Iteration 421 / 1950) loss: 8.994381\n",
      "(Iteration 431 / 1950) loss: 9.350773\n",
      "(Iteration 441 / 1950) loss: 7.949524\n",
      "(Iteration 451 / 1950) loss: 8.596409\n",
      "(Iteration 461 / 1950) loss: 10.162455\n",
      "(Iteration 471 / 1950) loss: 6.249141\n",
      "(Iteration 481 / 1950) loss: 6.622377\n",
      "(Iteration 491 / 1950) loss: 8.423536\n",
      "(Iteration 501 / 1950) loss: 5.578425\n",
      "(Iteration 511 / 1950) loss: 4.455131\n",
      "(Iteration 521 / 1950) loss: 4.007331\n",
      "(Iteration 531 / 1950) loss: 4.792176\n",
      "(Iteration 541 / 1950) loss: 3.168171\n",
      "(Iteration 551 / 1950) loss: 2.795425\n",
      "(Iteration 561 / 1950) loss: 4.133648\n",
      "(Iteration 571 / 1950) loss: 5.651296\n",
      "(Iteration 581 / 1950) loss: 1.949126\n",
      "(Iteration 591 / 1950) loss: 2.977289\n",
      "(Iteration 601 / 1950) loss: 3.260554\n",
      "(Iteration 611 / 1950) loss: 2.520081\n",
      "(Iteration 621 / 1950) loss: 1.688886\n",
      "(Iteration 631 / 1950) loss: 2.161605\n",
      "(Iteration 641 / 1950) loss: 1.602857\n",
      "(Iteration 651 / 1950) loss: 1.610305\n",
      "(Iteration 661 / 1950) loss: 1.788069\n",
      "(Iteration 671 / 1950) loss: 0.805385\n",
      "(Iteration 681 / 1950) loss: 1.101917\n",
      "(Iteration 691 / 1950) loss: 2.110169\n",
      "(Iteration 701 / 1950) loss: 1.690339\n",
      "(Iteration 711 / 1950) loss: 1.086763\n",
      "(Iteration 721 / 1950) loss: 2.598766\n",
      "(Iteration 731 / 1950) loss: 1.186928\n",
      "(Iteration 741 / 1950) loss: 0.396162\n",
      "(Iteration 751 / 1950) loss: 0.542328\n",
      "(Iteration 761 / 1950) loss: 1.502809\n",
      "(Iteration 771 / 1950) loss: 0.655355\n",
      "(Iteration 781 / 1950) loss: 2.190084\n",
      "(Iteration 791 / 1950) loss: 0.751327\n",
      "(Iteration 801 / 1950) loss: 0.985491\n",
      "(Iteration 811 / 1950) loss: 0.569751\n",
      "(Iteration 821 / 1950) loss: 0.384842\n",
      "(Iteration 831 / 1950) loss: 0.993343\n",
      "(Iteration 841 / 1950) loss: 0.465373\n",
      "(Iteration 851 / 1950) loss: 0.727627\n",
      "(Iteration 861 / 1950) loss: 1.555816\n",
      "(Iteration 871 / 1950) loss: 0.430313\n",
      "(Iteration 881 / 1950) loss: 0.539583\n",
      "(Iteration 891 / 1950) loss: 0.328891\n",
      "(Iteration 901 / 1950) loss: 0.361121\n",
      "(Iteration 911 / 1950) loss: 1.287845\n",
      "(Iteration 921 / 1950) loss: 0.707395\n",
      "(Iteration 931 / 1950) loss: 0.324062\n",
      "(Iteration 941 / 1950) loss: 0.326836\n",
      "(Iteration 951 / 1950) loss: 0.406278\n",
      "(Iteration 961 / 1950) loss: 0.327835\n",
      "(Iteration 971 / 1950) loss: 0.312169\n",
      "(Iteration 981 / 1950) loss: 0.303880\n",
      "(Iteration 991 / 1950) loss: 0.331972\n",
      "(Iteration 1001 / 1950) loss: 0.386194\n",
      "(Iteration 1011 / 1950) loss: 0.321602\n",
      "(Iteration 1021 / 1950) loss: 0.291426\n",
      "(Iteration 1031 / 1950) loss: 0.322361\n",
      "(Iteration 1041 / 1950) loss: 0.259218\n",
      "(Iteration 1051 / 1950) loss: 0.278818\n",
      "(Iteration 1061 / 1950) loss: 0.207216\n",
      "(Iteration 1071 / 1950) loss: 0.203653\n",
      "(Iteration 1081 / 1950) loss: 0.226861\n",
      "(Iteration 1091 / 1950) loss: 0.242253\n",
      "(Iteration 1101 / 1950) loss: 0.305389\n",
      "(Iteration 1111 / 1950) loss: 0.223596\n",
      "(Iteration 1121 / 1950) loss: 0.252943\n",
      "(Iteration 1131 / 1950) loss: 0.119100\n",
      "(Iteration 1141 / 1950) loss: 0.162059\n",
      "(Iteration 1151 / 1950) loss: 0.223649\n",
      "(Iteration 1161 / 1950) loss: 0.193509\n",
      "(Iteration 1171 / 1950) loss: 0.187754\n",
      "(Iteration 1181 / 1950) loss: 0.231920\n",
      "(Iteration 1191 / 1950) loss: 0.169010\n",
      "(Iteration 1201 / 1950) loss: 0.202641\n",
      "(Iteration 1211 / 1950) loss: 0.154169\n",
      "(Iteration 1221 / 1950) loss: 0.209279\n",
      "(Iteration 1231 / 1950) loss: 0.177334\n",
      "(Iteration 1241 / 1950) loss: 0.215532\n",
      "(Iteration 1251 / 1950) loss: 1.226602\n",
      "(Iteration 1261 / 1950) loss: 0.173107\n",
      "(Iteration 1271 / 1950) loss: 0.198066\n",
      "(Iteration 1281 / 1950) loss: 0.137075\n",
      "(Iteration 1291 / 1950) loss: 0.145704\n",
      "(Iteration 1301 / 1950) loss: 1.105727\n",
      "(Iteration 1311 / 1950) loss: 0.141550\n",
      "(Iteration 1321 / 1950) loss: 0.154347\n",
      "(Iteration 1331 / 1950) loss: 0.146189\n",
      "(Iteration 1341 / 1950) loss: 0.185046\n",
      "(Iteration 1351 / 1950) loss: 0.144713\n",
      "(Iteration 1361 / 1950) loss: 0.147915\n",
      "(Iteration 1371 / 1950) loss: 0.140724\n",
      "(Iteration 1381 / 1950) loss: 0.154836\n",
      "(Iteration 1391 / 1950) loss: 0.181718\n",
      "(Iteration 1401 / 1950) loss: 0.146639\n",
      "(Iteration 1411 / 1950) loss: 0.140428\n",
      "(Iteration 1421 / 1950) loss: 0.144015\n",
      "(Iteration 1431 / 1950) loss: 0.129367\n",
      "(Iteration 1441 / 1950) loss: 0.137452\n",
      "(Iteration 1451 / 1950) loss: 0.102907\n",
      "(Iteration 1461 / 1950) loss: 0.104883\n",
      "(Iteration 1471 / 1950) loss: 0.117054\n",
      "(Iteration 1481 / 1950) loss: 0.125604\n",
      "(Iteration 1491 / 1950) loss: 0.160938\n",
      "(Iteration 1501 / 1950) loss: 0.095935\n",
      "(Iteration 1511 / 1950) loss: 0.132079\n",
      "(Iteration 1521 / 1950) loss: 0.062188\n",
      "(Iteration 1531 / 1950) loss: 0.090496\n",
      "(Iteration 1541 / 1950) loss: 0.116090\n",
      "(Iteration 1551 / 1950) loss: 0.104503\n",
      "(Iteration 1561 / 1950) loss: 0.091622\n",
      "(Iteration 1571 / 1950) loss: 0.125149\n",
      "(Iteration 1581 / 1950) loss: 0.088455\n",
      "(Iteration 1591 / 1950) loss: 0.114169\n",
      "(Iteration 1601 / 1950) loss: 0.087551\n",
      "(Iteration 1611 / 1950) loss: 0.109686\n",
      "(Iteration 1621 / 1950) loss: 0.098467\n",
      "(Iteration 1631 / 1950) loss: 0.115236\n",
      "(Iteration 1641 / 1950) loss: 1.128548\n",
      "(Iteration 1651 / 1950) loss: 0.097877\n",
      "(Iteration 1661 / 1950) loss: 0.109535\n",
      "(Iteration 1671 / 1950) loss: 0.080723\n",
      "(Iteration 1681 / 1950) loss: 0.083152\n",
      "(Iteration 1691 / 1950) loss: 1.070234\n",
      "(Iteration 1701 / 1950) loss: 0.079740\n",
      "(Iteration 1711 / 1950) loss: 0.093347\n",
      "(Iteration 1721 / 1950) loss: 0.086865\n",
      "(Iteration 1731 / 1950) loss: 0.108381\n",
      "(Iteration 1741 / 1950) loss: 0.084951\n",
      "(Iteration 1751 / 1950) loss: 0.088847\n",
      "(Iteration 1761 / 1950) loss: 0.084546\n",
      "(Iteration 1771 / 1950) loss: 0.091530\n",
      "(Iteration 1781 / 1950) loss: 0.108517\n",
      "(Iteration 1791 / 1950) loss: 0.087006\n",
      "(Iteration 1801 / 1950) loss: 0.084425\n",
      "(Iteration 1811 / 1950) loss: 0.085377\n",
      "(Iteration 1821 / 1950) loss: 0.079373\n",
      "(Iteration 1831 / 1950) loss: 0.082166\n",
      "(Iteration 1841 / 1950) loss: 0.062410\n",
      "(Iteration 1851 / 1950) loss: 0.064645\n",
      "(Iteration 1861 / 1950) loss: 0.072711\n",
      "(Iteration 1871 / 1950) loss: 0.078576\n",
      "(Iteration 1881 / 1950) loss: 0.100515\n",
      "(Iteration 1891 / 1950) loss: 0.057246\n",
      "(Iteration 1901 / 1950) loss: 0.081989\n",
      "(Iteration 1911 / 1950) loss: 0.038155\n",
      "(Iteration 1921 / 1950) loss: 0.058119\n",
      "(Iteration 1931 / 1950) loss: 0.071608\n",
      "(Iteration 1941 / 1950) loss: 0.065900\n"
     ]
    },
    {
     "data": {
      "image/png": "[encoded data removed]",
      "text/plain": [
       "<Figure size 432x288 with 1 Axes>"
      ]
     },
     "metadata": {},
     "output_type": "display_data"
    }
   ],
   "source": [
    "np.random.seed(231)\n",
    "import pickle\n",
    "from data import Data\n",
    "\n",
    "\n",
    "with open('dicts/char2ix.pk', 'rb') as f:\n",
    "    char2ix = pickle.load(f)\n",
    "data = Data(5)\n",
    "small_lstm_model = CharRNN(\n",
    "          cell_type='lstm',\n",
    "          word_to_idx=char2ix,\n",
    "          hidden_dim=128,\n",
    "          wordvec_dim=128,\n",
    "          dtype=np.float32,\n",
    "        )\n",
    "\n",
    "small_lstm_solver = CharSolver(small_lstm_model, data,\n",
    "           update_rule='adam',\n",
    "           num_epochs=50,\n",
    "           batch_size=50,\n",
    "           optim_config={\n",
    "             'learning_rate': 5e-3,\n",
    "           },\n",
    "           lr_decay=0.995,\n",
    "           verbose=True, print_every=10,\n",
    "         )\n",
    "\n",
    "small_lstm_solver.train()\n",
    "\n",
    "# Plot the training losses\n",
    "plt.plot(small_lstm_solver.loss_history)\n",
    "plt.xlabel('Iteration')\n",
    "plt.ylabel('Loss')\n",
    "plt.title('Training loss history')\n",
    "plt.show()"
   ]
  },
  {
   "cell_type": "markdown",
   "metadata": {},
   "source": [
    "# LSTM test-time sampling\n",
    "Modify the `sample` method of the `CaptioningRNN` class to handle the case where `self.cell_type` is `lstm`. This should take fewer than 10 lines of code.\n",
    "\n",
    "When you are done run the following to sample from your overfit LSTM model on some training and validation set samples. As with the RNN, training results should be very good, and validation results probably won't make a lot of sense (because we're overfitting)."
   ]
  },
  {
   "cell_type": "code",
   "execution_count": 28,
   "metadata": {},
   "outputs": [
    {
     "name": "stdout",
     "output_type": "stream",
     "text": [
      "dW error:  3.275594162452368e-12\n"
     ]
    }
   ],
   "source": [
    "np.random.seed(231)\n",
    "\n",
    "N, T, V, D = 50, 3, 5, 6\n",
    "x = np.random.randint(V, size=(T))\n",
    "W = np.random.randn(V, D)\n",
    "\n",
    "out, cache = word_embedding_forward(x, W)\n",
    "dout = np.random.randn(*out.shape)\n",
    "dW = word_embedding_backward(dout, cache)\n",
    "\n",
    "f = lambda W: word_embedding_forward(x, W)[0]\n",
    "dW_num = eval_numerical_gradient_array(f, W, dout)\n",
    "\n",
    "print('dW error: ', rel_error(dW, dW_num))"
   ]
  },
  {
   "cell_type": "code",
   "execution_count": 10,
   "metadata": {},
   "outputs": [
    {
     "name": "stdout",
     "output_type": "stream",
     "text": [
      "之书也．故，悔又无成，忽过隐\"云云云云云云云云云云云云云云云云云云云云云云云云云云云云云云云云云云\n"
     ]
    }
   ],
   "source": [
    "from transformation import *\n",
    "tensor = small_lstm_model.sample()\n",
    "with open('dicts/ix2char.pk', 'rb') as f:\n",
    "    ix2char = pickle.load(f)\n",
    "text = num2eng(tensor, ix2char)\n",
    "with open('dicts/eng2chn', 'rb') as f:\n",
    "    eng2chn_dict = pickle.load(f)\n",
    "text = eng2chn(text, eng2chn_dict)\n",
    "print(text)"
   ]
  },
  {
   "cell_type": "code",
   "execution_count": null,
   "metadata": {},
   "outputs": [],
   "source": []
  }
 ],
 "metadata": {
  "kernelspec": {
   "display_name": "Python 3",
   "language": "python",
   "name": "python3"
  },
  "language_info": {
   "codemirror_mode": {
    "name": "ipython",
    "version": 3
   },
   "file_extension": ".py",
   "mimetype": "text/x-python",
   "name": "python",
   "nbconvert_exporter": "python",
   "pygments_lexer": "ipython3",
   "version": "3.6.6"
  }
 },
 "nbformat": 4,
 "nbformat_minor": 1
}
